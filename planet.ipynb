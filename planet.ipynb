{
 "cells": [
  {
   "cell_type": "code",
   "execution_count": 1,
   "id": "8a238fae-664b-47c8-95b5-88f5b3f733b6",
   "metadata": {},
   "outputs": [
    {
     "name": "stdout",
     "output_type": "stream",
     "text": [
      "env: MUJOCO_GL=egl\n"
     ]
    }
   ],
   "source": [
    "%config InlineBackend.figure_format = 'svg'\n",
    "%env MUJOCO_GL=egl\n",
    "import matplotlib\n",
    "import matplotlib.pyplot as plt\n",
    "import numpy as np\n",
    "import torch\n",
    "import torchvision\n",
    "from dm_control import suite\n",
    "from dm_control.suite.wrappers import pixels\n",
    "from models import Encoder, Decoder, RewardModel, RSSM\n",
    "from replay import ExpReplay\n",
    "from torch import optim\n",
    "from torch.nn import functional as F\n",
    "from utils import display_img, display_video, preprocess_img\n",
    "\n",
    "device = torch.device(\"cuda\" if torch.cuda.is_available() else \"cpu\")\n",
    "matplotlib.rcParams['animation.embed_limit'] = 2**128\n",
    "random_state = np.random.RandomState(0)"
   ]
  },
  {
   "cell_type": "code",
   "execution_count": 2,
   "id": "6de4c786-297b-4da3-973e-bfb08839b53f",
   "metadata": {},
   "outputs": [],
   "source": [
    "# For animations to render inline in jupyter,\n",
    "# download ffmpeg and set the path below to the location of the ffmpeg executable\n",
    "# plt.rcParams['animation.ffmpeg_path'] = '/usr/bin/ffmpeg'"
   ]
  },
  {
   "cell_type": "code",
   "execution_count": 3,
   "id": "664fc4fc-335a-4194-a04a-e143458f517c",
   "metadata": {},
   "outputs": [],
   "source": [
    "SEED_EPS = 5\n",
    "TRAIN_EPS = 100\n",
    "UPDATES = 100\n",
    "ACTION_REPEAT = 8"
   ]
  },
  {
   "cell_type": "code",
   "execution_count": 4,
   "id": "239a8883-e867-4cca-a203-a10e6691f93c",
   "metadata": {},
   "outputs": [],
   "source": [
    "env = suite.load('cartpole', 'swingup')\n",
    "env = pixels.Wrapper(env) # only use pixels instead of internal state\n",
    "act_spec = env.action_spec()\n",
    "action_dim = act_spec.shape[0]\n",
    "\n",
    "data = ExpReplay()"
   ]
  },
  {
   "cell_type": "code",
   "execution_count": 5,
   "id": "ef435f98-3e43-469d-8622-770963578352",
   "metadata": {},
   "outputs": [
    {
     "name": "stdout",
     "output_type": "stream",
     "text": [
      "Avg reward per ep:  23.396045580197914\n",
      "Avg timesteps per ep:  1000.0\n"
     ]
    }
   ],
   "source": [
    "# Generate random seed data\n",
    "total_reward_seed = 0\n",
    "t = 0\n",
    "for i in range(SEED_EPS):\n",
    "    state = env.reset()\n",
    "    reward = 0\n",
    "    while not state.last():\n",
    "        t += 1\n",
    "        action = random_state.uniform(act_spec.minimum, act_spec.maximum, action_dim)\n",
    "        reward = state.reward\n",
    "        if reward:\n",
    "            total_reward_seed += reward\n",
    "        frame = env.physics.render(camera_id=0, height=200, width=200)\n",
    "        frame = preprocess_img(frame)\n",
    "        data.replay.append((frame, action, reward))\n",
    "        state = env.step(action)\n",
    "print(\"Avg reward per ep: \",total_reward_seed/5)\n",
    "print(\"Avg timesteps per ep: \", t/5)"
   ]
  },
  {
   "cell_type": "code",
   "execution_count": 6,
   "id": "8bd51329-d41f-419e-8ccf-5273ec905dad",
   "metadata": {},
   "outputs": [],
   "source": [
    "def extract_from_replay(replay):\n",
    "    obs = []\n",
    "    rewards = []\n",
    "    actions = []\n",
    "    for i in range(len(replay)):\n",
    "        obs.append(replay[i][0])\n",
    "        actions.append(replay[i][1])\n",
    "        rewards.append(replay[i][2])\n",
    "    return obs, actions, rewards\n",
    "obs, actions, rewards = extract_from_replay(data.replay)"
   ]
  },
  {
   "cell_type": "code",
   "execution_count": 7,
   "id": "6817d705-cb56-4b32-a493-d6b81caf18bc",
   "metadata": {},
   "outputs": [
    {
     "data": {
      "text/plain": [
       "torch.Size([3, 64, 64])"
      ]
     },
     "execution_count": 7,
     "metadata": {},
     "output_type": "execute_result"
    }
   ],
   "source": [
    "obs[0].shape"
   ]
  },
  {
   "cell_type": "code",
   "execution_count": 8,
   "id": "c0b12324-76b4-4818-9736-75fe2479b57e",
   "metadata": {},
   "outputs": [],
   "source": [
    "enc = Encoder().to(device)\n",
    "dec = Decoder().to(device)\n",
    "reward_model = RewardModel().to(device)\n",
    "rssm = RSSM(action_dim).to(device)\n",
    "optimizer = optim.Adam(rssm.parameters(), lr=1e-3, eps=1e-4)"
   ]
  },
  {
   "cell_type": "code",
   "execution_count": null,
   "id": "bd080d5a-e5bb-4951-851f-0638e9e6b5f1",
   "metadata": {},
   "outputs": [],
   "source": []
  }
 ],
 "metadata": {
  "kernelspec": {
   "display_name": "Python 3 (ipykernel)",
   "language": "python",
   "name": "python3"
  },
  "language_info": {
   "codemirror_mode": {
    "name": "ipython",
    "version": 3
   },
   "file_extension": ".py",
   "mimetype": "text/x-python",
   "name": "python",
   "nbconvert_exporter": "python",
   "pygments_lexer": "ipython3",
   "version": "3.9.7"
  }
 },
 "nbformat": 4,
 "nbformat_minor": 5
}
