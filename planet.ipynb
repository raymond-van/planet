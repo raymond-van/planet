{
 "cells": [
  {
   "cell_type": "code",
   "execution_count": null,
   "id": "8a238fae-664b-47c8-95b5-88f5b3f733b6",
   "metadata": {},
   "outputs": [],
   "source": [
    "%config InlineBackend.figure_format = 'svg'\n",
    "%env MUJOCO_GL=egl\n",
    "import matplotlib\n",
    "import matplotlib.pyplot as plt\n",
    "import numpy as np\n",
    "import torch\n",
    "import torchvision\n",
    "from dm_control import suite\n",
    "from dm_control.suite.wrappers import pixels\n",
    "from models import Encoder, Decoder, RewardModel, RSSM\n",
    "from mpc import MPC\n",
    "from replay import ExpReplay\n",
    "from torch import optim\n",
    "from torch.nn import functional as F\n",
    "from torch.utils.data import DataLoader\n",
    "from tqdm import tqdm\n",
    "from utils import display_img, display_video, preprocess_img\n",
    "\n",
    "device = torch.device(\"cuda\" if torch.cuda.is_available() else \"cpu\")\n",
    "matplotlib.rcParams['animation.embed_limit'] = 2**128\n",
    "random_state = np.random.RandomState(0)"
   ]
  },
  {
   "cell_type": "code",
   "execution_count": null,
   "id": "6de4c786-297b-4da3-973e-bfb08839b53f",
   "metadata": {},
   "outputs": [],
   "source": [
    "# For animations to render inline in jupyter,\n",
    "# download ffmpeg and set the path below to the location of the ffmpeg executable\n",
    "# plt.rcParams['animation.ffmpeg_path'] = '/usr/bin/ffmpeg'"
   ]
  },
  {
   "cell_type": "code",
   "execution_count": null,
   "id": "664fc4fc-335a-4194-a04a-e143458f517c",
   "metadata": {},
   "outputs": [],
   "source": [
    "SEED_EPS = 3\n",
    "TRAIN_EPS = 100\n",
    "UPDATES = 100\n",
    "ACTION_REPEAT = 8\n",
    "BATCH_SZ = 50\n",
    "CHUNK_LEN = 50"
   ]
  },
  {
   "cell_type": "code",
   "execution_count": null,
   "id": "239a8883-e867-4cca-a203-a10e6691f93c",
   "metadata": {},
   "outputs": [],
   "source": [
    "env = suite.load('cartpole', 'swingup')\n",
    "env = pixels.Wrapper(env) # only use pixels instead of internal state\n",
    "act_spec = env.action_spec()\n",
    "action_dim = act_spec.shape[0]\n",
    "\n",
    "data = ExpReplay(BATCH_SZ, CHUNK_LEN, action_dim)"
   ]
  },
  {
   "cell_type": "code",
   "execution_count": null,
   "id": "ef435f98-3e43-469d-8622-770963578352",
   "metadata": {},
   "outputs": [],
   "source": [
    "# Generate random seed data\n",
    "total_reward_seed = 0\n",
    "t = 0\n",
    "for i in range(SEED_EPS):\n",
    "    state = env.reset()\n",
    "    reward = 0\n",
    "    while not state.last():\n",
    "        t += 1\n",
    "        action = random_state.uniform(act_spec.minimum, act_spec.maximum, action_dim)\n",
    "        reward = state.reward\n",
    "        if reward is None: reward = 0\n",
    "        total_reward_seed += reward\n",
    "        frame = env.physics.render(camera_id=0, height=200, width=200)\n",
    "        frame = preprocess_img(frame).to(device)\n",
    "        data.append(frame, torch.as_tensor(action), torch.as_tensor(reward))\n",
    "        state = env.step(action)\n",
    "print(\"Avg reward per ep: \",total_reward_seed/SEED_EPS)\n",
    "print(\"Avg timesteps per ep: \", t/SEED_EPS)"
   ]
  },
  {
   "cell_type": "code",
   "execution_count": null,
   "id": "c0b12324-76b4-4818-9736-75fe2479b57e",
   "metadata": {},
   "outputs": [],
   "source": [
    "enc = Encoder().to(device)\n",
    "dec = Decoder().to(device)\n",
    "reward_model = RewardModel().to(device)\n",
    "rssm = RSSM(action_dim).to(device)\n",
    "params = list(enc.parameters()) + list(dec.parameters()) + list(reward_model.parameters()) + list(rssm.parameters())\n",
    "optimizer = optim.Adam(params, lr=1e-3, eps=1e-4)\n",
    "\n",
    "planner = MPC(action_dim)"
   ]
  },
  {
   "cell_type": "code",
   "execution_count": null,
   "id": "0f4a3d71-dc94-4170-8ba3-dbe02a8fd312",
   "metadata": {},
   "outputs": [],
   "source": [
    "rewards_list = []\n",
    "losses_list = []\n",
    "observations=[]\n",
    "\n",
    "# Train for 250 eps\n",
    "for i in tqdm(range(10)):\n",
    "    # MODEL FITTING\n",
    "    total_loss = 0\n",
    "    for j in range(UPDATES):\n",
    "        obs, actions, rewards = data.sample_batch()\n",
    "        state = env.reset()\n",
    "        obs_loss, reward_loss = 0, 0\n",
    "        det_state = torch.zeros((50,200)).to(device)\n",
    "        stoc_state = torch.zeros((50,30)).to(device)\n",
    "        prior_mean, prior_dev, post_mean, post_dev = torch.zeros((50,30)).to(device), torch.zeros((50,30)).to(device), torch.zeros((50,30)).to(device), torch.zeros((50,30)).to(device)\n",
    "        for b in range(BATCH_SZ):\n",
    "            det_state = rssm.drnn(det_state, stoc_state, actions[b])\n",
    "            prior_state, prior_mean, prior_dev = rssm.ssm_prior(det_state)\n",
    "            posterior_state, post_dev, post_dev = rssm.ssm_posterior(det_state, enc(obs[b]))\n",
    "            obs_loss += F.mse_loss(dec(det_state, stoc_state), obs[b])\n",
    "            reward_loss += F.mse_loss(reward_model(torch.cat((det_state, stoc_state),dim=1)), rewards[b])\n",
    "        optimizer.zero_grad()\n",
    "        torch.nn.utils.clip_grad_norm_(params, 1000., norm_type=2)\n",
    "        loss = obs_loss + reward_loss + kl_div\n",
    "        loss.backward()\n",
    "        optimizer.step()\n",
    "        total_loss += loss.item()\n",
    "    losses_list.append(total_loss)\n",
    "    # DATA COLLECTION\n",
    "    t= 0\n",
    "    eps_reward = 0\n",
    "    vid = []\n",
    "    with torch.no_grad():\n",
    "        state = env.reset()\n",
    "        det_state = torch.zeros(200).to(device)\n",
    "        stoc_state = torch.zeros(30).to(device)\n",
    "        action = torch.zeros(action_dim).to(device)\n",
    "        frame = preprocess_img(env.physics.render(camera_id=0, height=200, width=200)).to(device)\n",
    "        while not state.last():\n",
    "        # for _ in tqdm(range(1000)):\n",
    "        # for i in tqdm(range(10)):\n",
    "            # t+=1\n",
    "            # if (t%20==0): print(t)\n",
    "            det_state = rssm.drnn(det_state, stoc_state, action.to(device))\n",
    "            stoc_state, _, _ = rssm.ssm_posterior(det_state, enc(frame))\n",
    "            stoc_state = stoc_state.squeeze()\n",
    "            action = planner.get_action(det_state.to(device), stoc_state.to(device), rssm, reward_model)\n",
    "            for _ in range(ACTION_REPEAT):\n",
    "                if state.last(): break\n",
    "                state = env.step(action)\n",
    "                eps_reward += state.reward\n",
    "            frame = env.physics.render(camera_id=0, height=200, width=200)\n",
    "            vid.append(frame)\n",
    "            frame = preprocess_img(frame).to(device)\n",
    "            data.append(frame, action, state.reward)\n",
    "        rewards_list.append(eps_reward)\n",
    "        observations.append(vid)\n",
    "        print(\"Loss: \", total_loss)\n",
    "        print(\"Reward: \", eps_reward)"
   ]
  },
  {
   "cell_type": "code",
   "execution_count": null,
   "id": "75157bdb-b9be-43c3-96c6-7d4505f98678",
   "metadata": {},
   "outputs": [],
   "source": [
    "o, a, r = data.sample_batch()\n"
   ]
  },
  {
   "cell_type": "code",
   "execution_count": null,
   "id": "9e5c6d6a-2851-411a-a93f-bac507159343",
   "metadata": {},
   "outputs": [],
   "source": [
    "det = torch.zeros(200).to(device)\n",
    "stoc = torch.zeros(30).to(device)\n",
    "det_b = torch.zeros((50,200)).to(device)\n",
    "stoc_b = torch.zeros((50,30)).to(device)"
   ]
  },
  {
   "cell_type": "code",
   "execution_count": null,
   "id": "71ba29a3-d3db-4f1f-b638-91007d62cb90",
   "metadata": {},
   "outputs": [],
   "source": [
    "rew = reward_model(torch.cat((det, stoc)))\n",
    "print(rew.shape)\n",
    "rew_b = reward_model(torch.cat((det_b, stoc_b), dim=1))\n",
    "print(rew_b.shape)"
   ]
  },
  {
   "cell_type": "code",
   "execution_count": null,
   "id": "5560b472-b829-4401-84b1-32c575eb389f",
   "metadata": {},
   "outputs": [],
   "source": [
    "torch.cat((det_b,stoc_b), dim=1).shape"
   ]
  },
  {
   "cell_type": "code",
   "execution_count": null,
   "id": "297f5a64-b318-42e0-8e46-d962199679bb",
   "metadata": {},
   "outputs": [],
   "source": [
    "de = dec(det, stoc)\n",
    "print(de.shape)"
   ]
  },
  {
   "cell_type": "code",
   "execution_count": null,
   "id": "9299771e-af66-4690-af31-a997f92e089d",
   "metadata": {},
   "outputs": [],
   "source": [
    "de_b = dec(det_b, stoc_b)\n",
    "print(de_b.shape)"
   ]
  },
  {
   "cell_type": "code",
   "execution_count": null,
   "id": "afebcc70-808a-4e5b-8812-5aaa72ac2142",
   "metadata": {},
   "outputs": [],
   "source": [
    "d = rssm.drnn(det, stoc, a[0][0])\n",
    "print(d.shape)"
   ]
  },
  {
   "cell_type": "code",
   "execution_count": null,
   "id": "5c6f70e4-5f80-4f8e-a7e5-79e86e6da1a9",
   "metadata": {},
   "outputs": [],
   "source": [
    "d = rssm.drnn(det_b, stoc_b, a[0])\n",
    "print(d.shape)"
   ]
  },
  {
   "cell_type": "code",
   "execution_count": null,
   "id": "ff0956bb-fb4e-4eaf-b702-bfa78f064c33",
   "metadata": {},
   "outputs": [],
   "source": [
    "prior =rssm.ssm_prior(det)\n",
    "print(prior[0].shape)\n",
    "print(prior[1].shape)\n",
    "print(prior[2].shape)"
   ]
  },
  {
   "cell_type": "code",
   "execution_count": null,
   "id": "aba7665b-f0c6-4310-a6c4-d5762b54808f",
   "metadata": {},
   "outputs": [],
   "source": [
    "prior_b =rssm.ssm_prior(det_b)\n",
    "print(prior_b[0].shape)\n",
    "print(prior_b[1].shape)\n",
    "print(prior_b[2].shape)"
   ]
  },
  {
   "cell_type": "code",
   "execution_count": null,
   "id": "bf84290d-f5fb-4034-afa3-2dd541bc6931",
   "metadata": {},
   "outputs": [],
   "source": [
    "posterior =rssm.ssm_posterior(det, enc(o[0][0]))\n",
    "print(posterior[0].shape)\n",
    "print(posterior[1].shape)\n",
    "print(posterior[2].shape)"
   ]
  },
  {
   "cell_type": "code",
   "execution_count": null,
   "id": "f6f20023-02fb-4b59-8af8-c5eff0552676",
   "metadata": {},
   "outputs": [],
   "source": [
    "enc(o[0]).shape"
   ]
  },
  {
   "cell_type": "code",
   "execution_count": null,
   "id": "3543187b-9bb3-43b9-a294-63d8f8270e9b",
   "metadata": {},
   "outputs": [],
   "source": [
    "posterior_b =rssm.ssm_posterior(det_b, enc(o[0]))\n",
    "print(posterior_b[0].shape)\n",
    "print(posterior_b[1].shape)\n",
    "print(posterior_b[2].shape)"
   ]
  }
 ],
 "metadata": {
  "kernelspec": {
   "display_name": "Python 3 (ipykernel)",
   "language": "python",
   "name": "python3"
  },
  "language_info": {
   "codemirror_mode": {
    "name": "ipython",
    "version": 3
   },
   "file_extension": ".py",
   "mimetype": "text/x-python",
   "name": "python",
   "nbconvert_exporter": "python",
   "pygments_lexer": "ipython3",
   "version": "3.9.7"
  }
 },
 "nbformat": 4,
 "nbformat_minor": 5
}
